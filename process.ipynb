{
 "cells": [
  {
   "cell_type": "code",
   "execution_count": 1,
   "metadata": {},
   "outputs": [],
   "source": [
    "import os\n",
    "import numpy as np\n",
    "import json"
   ]
  },
  {
   "cell_type": "code",
   "execution_count": 2,
   "metadata": {},
   "outputs": [],
   "source": [
    "# this config contains the resolution and intrinsic of the blender camera\n",
    "\n",
    "resolution_w, resolution_h = 1024, 1024\n",
    "intrinsic = [\n",
    "    [1024.0,    0.0, 512.0],\n",
    "    [   0.0, 1024.0, 512.0],\n",
    "    [   0.0,    0.0,   1.0]\n",
    "]\n",
    "\n",
    "camera_paramaters = {}\n",
    "camera_paramaters['h'] = resolution_h\n",
    "camera_paramaters['w'] = resolution_w\n",
    "camera_paramaters['K'] = intrinsic\n",
    "\n",
    "with open('./configs/camera_parameters.json', 'w') as file:\n",
    "    json.dump(camera_paramaters, file, indent=2)"
   ]
  },
  {
   "cell_type": "code",
   "execution_count": 3,
   "metadata": {},
   "outputs": [],
   "source": [
    "# this config contains the name and position of each human frame\n",
    "\n",
    "human = 'nathan'\n",
    "offset_x, offset_y = 2.0864, 1.2897\n",
    "\n",
    "digital_human_configs = {}\n",
    "digital_human_configs['name'] = 'rp_nathan_animated_003_walking_geo_Mesh'\n",
    "digital_human_configs['offset_x'] = offset_x\n",
    "digital_human_configs['offset_y'] = offset_y\n",
    "\n",
    "with open(f'./configs/digital_{human}_configs.json', 'w') as file:\n",
    "    json.dump(digital_human_configs, file, indent=2)"
   ]
  },
  {
   "cell_type": "code",
   "execution_count": 2,
   "metadata": {},
   "outputs": [],
   "source": [
    "# change the map file path in the `.mtl` file\n",
    "\n",
    "for human in ['nathan', 'manuel']:\n",
    "    # define object root and map root\n",
    "    mtl_root = f'/home/xietao/data/synthetic_human/{human}/object'\n",
    "    map_root = f'/home/xietao/data/synthetic_human/{human}/rawdata/tex'\n",
    "    # change all `.mtl` in the `mtl_root` folder\n",
    "    for file in os.listdir(mtl_root):\n",
    "        if '.mtl' not in file: continue\n",
    "        # read original mtl data\n",
    "        new_lines = []\n",
    "        with open(os.path.join(mtl_root, file), 'r') as fp:\n",
    "            old_lines = fp.readlines()\n",
    "            for line in old_lines:\n",
    "                if 'map_Kd' not in line: new_lines.append(line)\n",
    "                else: new_lines.append(line.split(' ')[0] + ' ' + map_root + '/' + line.split(' ')[1].split('/')[-1])\n",
    "        # write the modified mtl data back to the same file\n",
    "        with open(os.path.join(mtl_root, file), 'w') as fp:\n",
    "            fp.writelines(new_lines)"
   ]
  },
  {
   "cell_type": "code",
   "execution_count": null,
   "metadata": {},
   "outputs": [],
   "source": []
  }
 ],
 "metadata": {
  "kernelspec": {
   "display_name": "blender",
   "language": "python",
   "name": "python3"
  },
  "language_info": {
   "codemirror_mode": {
    "name": "ipython",
    "version": 3
   },
   "file_extension": ".py",
   "mimetype": "text/x-python",
   "name": "python",
   "nbconvert_exporter": "python",
   "pygments_lexer": "ipython3",
   "version": "3.9.16"
  },
  "orig_nbformat": 4,
  "vscode": {
   "interpreter": {
    "hash": "fa884e52a29b65770cc641b18fc2f17bc478eeec4e3cf7f9cc0c2efc7c68067a"
   }
  }
 },
 "nbformat": 4,
 "nbformat_minor": 2
}
