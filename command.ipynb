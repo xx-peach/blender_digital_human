{
 "cells": [
  {
   "cell_type": "code",
   "execution_count": 1,
   "metadata": {},
   "outputs": [],
   "source": [
    "import os"
   ]
  },
  {
   "attachments": {},
   "cell_type": "markdown",
   "metadata": {},
   "source": [
    "## 1 generate camera positions"
   ]
  },
  {
   "cell_type": "code",
   "execution_count": 1,
   "metadata": {},
   "outputs": [
    {
     "name": "stdout",
     "output_type": "stream",
     "text": [
      "python ./scripts/generate_camera_pose.py --n_views 120 --is_test True --out_folder ./configs\n"
     ]
    }
   ],
   "source": [
    "config_folder = './configs'\n",
    "n_views = 120\n",
    "is_test = True\n",
    "\n",
    "cmd = f'python ./scripts/generate_camera_pose.py ' \\\n",
    "      f'--n_views {n_views} ' \\\n",
    "      f'--is_test {is_test} ' \\\n",
    "      f'--out_folder {config_folder}'\n",
    "print(cmd)"
   ]
  },
  {
   "cell_type": "code",
   "execution_count": null,
   "metadata": {},
   "outputs": [],
   "source": []
  },
  {
   "attachments": {},
   "cell_type": "markdown",
   "metadata": {},
   "source": [
    "## 2 blender rendering command"
   ]
  },
  {
   "cell_type": "code",
   "execution_count": 3,
   "metadata": {},
   "outputs": [],
   "source": [
    "scenes = [\n",
    "    'd19b8b80-a9af-477a-bf3f-41cd20cf840b.json',    # no\n",
    "    'd1992aca-b517-4d27-822a-5adb08fd20fe.json',    # no\n",
    "    'ff48ced7-689e-4292-a199-47435e73e3fa.json',    # no\n",
    "    'ffe76c93-7b20-424a-8d58-a4fa7c81d4e8.json',    # v4\n",
    "    '00321452-517d-431b-a21b-f52750684910.json',\n",
    "]\n",
    "\n",
    "scene = scenes[3]"
   ]
  },
  {
   "attachments": {},
   "cell_type": "markdown",
   "metadata": {},
   "source": [
    "### 2.1 render human with environment"
   ]
  },
  {
   "cell_type": "code",
   "execution_count": 4,
   "metadata": {},
   "outputs": [
    {
     "name": "stdout",
     "output_type": "stream",
     "text": [
      "blenderproc run human_env_blend_visualizer.py --front /home/xietao/data/3d-front/3D-FRONT/ffe76c93-7b20-424a-8d58-a4fa7c81d4e8.json --future_folder /home/xietao/data/3d-front/3D-FUTURE-model --front_3D_texture_path /home/xietao/data/3d-front/3D-FRONT-texture --digital_human_path /home/xietao/data/synthetic_human/nathan/object/000001.obj --digital_human_config ./configs/digital_nathan_configs.json --camera_param_path ./configs/camera_parameters.json --camera_poses_path ./configs/camera_positions --output_dir ./output/env_ffe76c93_nathan/hdf5\n",
      "\n",
      "python ./scripts/hd5tojpg.py --raw_folder ./output/env_ffe76c93_nathan/hdf5 --out_folder ./output/env_ffe76c93_nathan/images\n"
     ]
    }
   ],
   "source": [
    "data_root = '/home/xietao/data/3d-front'\n",
    "\n",
    "mode = 'run'      # ['run', 'debug']\n",
    "scene_config = os.path.join(data_root, f'3D-FRONT/{scene}')\n",
    "objects_folder = os.path.join(data_root, f'3D-FUTURE-model')\n",
    "texture_folder = os.path.join(data_root, f'3D-FRONT-texture')\n",
    "human = 'nathan'\n",
    "frame = 1\n",
    "human_frame_path = f'/home/xietao/data/synthetic_human/{human}/object/{frame:06d}.obj'\n",
    "config_folder = f'./configs'\n",
    "output_folder = f'./output/env_{scene[:8]}_{human}'\n",
    "\n",
    "# blender render command\n",
    "cmd = f\"blenderproc {mode} human_env_blend_visualizer.py \" \\\n",
    "      f\"--front {scene_config} \" \\\n",
    "      f\"--future_folder {objects_folder} \" \\\n",
    "      f\"--front_3D_texture_path {texture_folder} \" \\\n",
    "      f\"--digital_human_path {human_frame_path} \" \\\n",
    "      f\"--digital_human_config {config_folder}/digital_{human}_configs.json \" \\\n",
    "      f\"--camera_param_path {config_folder}/camera_parameters.json \" \\\n",
    "      f\"--camera_poses_path {config_folder}/camera_positions \" \\\n",
    "      f\"--output_dir {output_folder}/hdf5\"\n",
    "print(cmd)\n",
    "print()\n",
    "\n",
    "# file format convertion command\n",
    "cmd = f'python ./scripts/hd5tojpg.py ' \\\n",
    "      f'--raw_folder {output_folder}/hdf5 ' \\\n",
    "      f'--out_folder {output_folder}/images'\n",
    "print(cmd)"
   ]
  },
  {
   "attachments": {},
   "cell_type": "markdown",
   "metadata": {},
   "source": [
    "### 2.2 render human only"
   ]
  },
  {
   "cell_type": "code",
   "execution_count": null,
   "metadata": {},
   "outputs": [],
   "source": [
    "human_data_root = '/home/xietao/data/synthetic_human'\n",
    "camera_num = 10\n",
    "mode = 'run'\n",
    "target_human = 'nathan'\n",
    "frames = range(0, 31)\n",
    "config_folder = f'./configs'\n",
    "output_folder = f'./output/only_{target_human}'\n",
    "\n",
    "for frame in frames:\n",
    "    # render all views of one single frame\n",
    "    human_frame_path = f'{human_data_root}/{target_human}/object/{frame:06d}.obj'\n",
    "    cmd = f\"blenderproc {mode} human_only_renderer.py \" \\\n",
    "          f\"--digital_human_path {human_frame_path} \" \\\n",
    "          f\"--digital_human_config {config_folder}/digital_{target_human}_configs.json \" \\\n",
    "          f\"--camera_param_path {config_folder}/camera_parameters.json \" \\\n",
    "          f\"--camera_poses_path {config_folder}/camera_positions \" \\\n",
    "          f\"--output_dir {output_folder}/frame_{frame:02d}/hdf5\"\n",
    "    print(cmd)\n",
    "    # os.system(cmd)\n",
    "\n",
    "for frame in frames:\n",
    "    # convert `.hdf5` to `.jpg`\n",
    "    cmd = f'python ./scripts/hd5tojpg_plus_mask.py ' \\\n",
    "          f'--raw_folder {output_folder}/frame_{frame:02d}/hdf5 ' \\\n",
    "          f'--img_folder {output_folder}/frame_{frame:02d}/images ' \\\n",
    "          f'--msk_folder {output_folder}/frame_{frame:02d}/mask'\n",
    "    print(cmd)\n",
    "    # os.system(cmd)\n",
    "\n",
    "for i in range(camera_num):\n",
    "    cmd = f'mkdir -p ./data/synthetic_human/{target_human}/images/{i:02d}'\n",
    "    print(cmd)\n",
    "    cmd = f'mkdir -p ./data/synthetic_human/{target_human}/mask/{i:02d}'\n",
    "    print(cmd)\n",
    "\n",
    "for frame in frames:\n",
    "    # rename and move\n",
    "    for i in range(camera_num):\n",
    "        # move image\n",
    "        source_img_path = f'{output_folder}/frame_{frame:02d}/images/{i}.jpg'\n",
    "        target_img_path = f'./data/synthetic_human/{target_human}/images/{i:02d}/{frame:06d}.jpg'\n",
    "        cmd = f'cp {source_img_path} {target_img_path}'\n",
    "        print(cmd)\n",
    "        # move mask\n",
    "        source_msk_path = f'{output_folder}/frame_{frame:02d}/mask/{i}.png'\n",
    "        target_msk_path = f'./data/synthetic_human/{target_human}/mask/{i:02d}/{frame:06d}.png'\n",
    "        cmd = f'cp {source_msk_path} {target_msk_path}'\n",
    "        print(cmd)"
   ]
  },
  {
   "attachments": {},
   "cell_type": "markdown",
   "metadata": {},
   "source": [
    "### 2.3 render envirment only"
   ]
  },
  {
   "cell_type": "code",
   "execution_count": 6,
   "metadata": {},
   "outputs": [
    {
     "name": "stdout",
     "output_type": "stream",
     "text": [
      "blenderproc run env_only_renderer.py --front /home/xietao/data/3d-front/3D-FRONT/ffe76c93-7b20-424a-8d58-a4fa7c81d4e8.json --future_folder /home/xietao/data/3d-front/3D-FUTURE-model --front_3D_texture_path /home/xietao/data/3d-front/3D-FRONT-texture --camera_param_path ./configs/camera_parameters.json --camera_poses_path ./configs/camera_positions --output_dir ./data/3d-front/ffe76c93/hdf5\n",
      "\n",
      "python ./scripts/hd5tojpg.py --raw_folder ./data/3d-front/ffe76c93/hdf5 --out_folder ./data/3d-front/ffe76c93/images\n"
     ]
    }
   ],
   "source": [
    "data_root = '/home/xietao/data/3d-front'\n",
    "\n",
    "mode = 'run'      # ['run', 'debug']\n",
    "scene_config = os.path.join(data_root, f'3D-FRONT/{scene}')\n",
    "objects_folder = os.path.join(data_root, f'3D-FUTURE-model')\n",
    "texture_folder = os.path.join(data_root, f'3D-FRONT-texture')\n",
    "config_folder = f'./configs'\n",
    "output_folder = f'./data/3d-front/{scene[:8]}'\n",
    "\n",
    "# blender render command\n",
    "cmd = f\"blenderproc {mode} env_only_renderer.py \" \\\n",
    "      f\"--front {scene_config} \" \\\n",
    "      f\"--future_folder {objects_folder} \" \\\n",
    "      f\"--front_3D_texture_path {texture_folder} \" \\\n",
    "      f\"--camera_param_path {config_folder}/camera_parameters.json \" \\\n",
    "      f\"--camera_poses_path {config_folder}/camera_positions \" \\\n",
    "      f\"--output_dir {output_folder}/hdf5\"\n",
    "print(cmd)\n",
    "print()\n",
    "\n",
    "# file format convertion command\n",
    "cmd = f'python ./scripts/hd5tojpg.py ' \\\n",
    "      f'--raw_folder {output_folder}/hdf5 ' \\\n",
    "      f'--out_folder {output_folder}/images'\n",
    "print(cmd)"
   ]
  },
  {
   "cell_type": "code",
   "execution_count": null,
   "metadata": {},
   "outputs": [],
   "source": []
  },
  {
   "attachments": {},
   "cell_type": "markdown",
   "metadata": {},
   "source": [
    "## 3 generate `easymocap` format camera parameters"
   ]
  },
  {
   "cell_type": "code",
   "execution_count": 7,
   "metadata": {},
   "outputs": [
    {
     "name": "stdout",
     "output_type": "stream",
     "text": [
      "blenderproc run ./scripts/generate_camera_params.py --camera_intri_path ./configs/camera_parameters.json --camera_extri_path ./configs/camera_positions --output_path ./data/synthetic_human/nathan\n"
     ]
    }
   ],
   "source": [
    "human = 'nathan'\n",
    "human_root = f'./data/synthetic_human/{human}'\n",
    "param_root = f'./configs'\n",
    "\n",
    "cmd = f'blenderproc run ./scripts/generate_camera_params.py ' \\\n",
    "      f'--camera_intri_path {param_root}/camera_parameters.json ' \\\n",
    "      f'--camera_extri_path {param_root}/camera_positions ' \\\n",
    "      f'--output_path {human_root}'\n",
    "print(cmd)"
   ]
  },
  {
   "cell_type": "code",
   "execution_count": null,
   "metadata": {},
   "outputs": [],
   "source": []
  },
  {
   "attachments": {},
   "cell_type": "markdown",
   "metadata": {},
   "source": [
    "## 4 prepare data for `phdeform` lib"
   ]
  },
  {
   "cell_type": "code",
   "execution_count": 8,
   "metadata": {},
   "outputs": [
    {
     "name": "stdout",
     "output_type": "stream",
     "text": [
      "cd ./EasyMocap\n",
      "python apps/preprocess/extract_keypoints.py /home/xietao/code/blender/blender_digital_human/data/synthetic_human/nathan --mode mp-holistic\n",
      "python3 apps/demo/mocap.py /home/xietao/code/blender/blender_digital_human/data/synthetic_human/nathan --mode smplh-3d --ranges 0 31 1\n",
      "python3 ./scripts/generate_annots_motion.py --data_folder ./data/synthetic_human/nathan\n"
     ]
    }
   ],
   "source": [
    "# cd the 3rd lib `easymocap` \n",
    "easymocap_path = './EasyMocap'\n",
    "cmd = f'cd {easymocap_path}'\n",
    "print(cmd)\n",
    "\n",
    "# preprocess the images to extract the 2d keypoints\n",
    "# https://chingswy.github.io/easymocap-public-doc/quickstart/keypoints.html#extract-keypoints\n",
    "data_root = f'/home/xietao/code/blender/blender_digital_human/data/synthetic_human'\n",
    "human = f'nathan'\n",
    "cmd = f'python apps/preprocess/extract_keypoints.py {data_root}/{human} --mode mp-holistic'\n",
    "print(cmd)\n",
    "\n",
    "# motion capture using `smplh` model\n",
    "work = 'smplh-3d'\n",
    "cmd = f'python3 apps/demo/mocap.py {data_root}/{human} --mode {work} --ranges 0 31 1'\n",
    "print(cmd)\n",
    "\n",
    "# generate `motion.npz` used by `phdeform` base dataset\n",
    "cmd = f'python3 ./scripts/generate_annots_motion.py --data_folder ./data/synthetic_human/{human}'\n",
    "print(cmd)"
   ]
  }
 ],
 "metadata": {
  "kernelspec": {
   "display_name": "blender",
   "language": "python",
   "name": "python3"
  },
  "language_info": {
   "codemirror_mode": {
    "name": "ipython",
    "version": 3
   },
   "file_extension": ".py",
   "mimetype": "text/x-python",
   "name": "python",
   "nbconvert_exporter": "python",
   "pygments_lexer": "ipython3",
   "version": "3.9.16"
  },
  "orig_nbformat": 4,
  "vscode": {
   "interpreter": {
    "hash": "fa884e52a29b65770cc641b18fc2f17bc478eeec4e3cf7f9cc0c2efc7c68067a"
   }
  }
 },
 "nbformat": 4,
 "nbformat_minor": 2
}
